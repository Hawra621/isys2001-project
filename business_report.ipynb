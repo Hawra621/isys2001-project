{
  "nbformat": 4,
  "nbformat_minor": 0,
  "metadata": {
    "colab": {
      "provenance": [],
      "authorship_tag": "ABX9TyOkQhquUmkSHkSpG2XagHms",
      "include_colab_link": true
    },
    "kernelspec": {
      "name": "python3",
      "display_name": "Python 3"
    },
    "language_info": {
      "name": "python"
    }
  },
  "cells": [
    {
      "cell_type": "markdown",
      "metadata": {
        "id": "view-in-github",
        "colab_type": "text"
      },
      "source": [
        "<a href=\"https://colab.research.google.com/github/Hawra621/isys2001-project/blob/main/business_report.ipynb\" target=\"_parent\"><img src=\"https://colab.research.google.com/assets/colab-badge.svg\" alt=\"Open In Colab\"/></a>"
      ]
    },
    {
      "cell_type": "markdown",
      "source": [
        "# Enron Email Analysis \n",
        "##### I am Student, #20166610\n",
        "##### Sunday 4 June 2023\n",
        "\n",
        "## Introduction\n",
        "\n",
        "The Enron Corporation, established in 1985, was an American energy, services, and commodities company. Although the company had increased market share, with a market value of over $70 billion, there was a dark reality of fraudulent accounting practices and financial scandals (Ali & El Gayar, 2019). The firm used deceptive activity to manipulate its financial statements and inflate its profits. The company's practices involved complex schemes and the creation of off-balance-sheet entities to hide the debt losses. The company collapsed in 2001 after the fraudulent activities were exposed. The Enron scandal also exposed weaknesses in corporate governance and raised concerns about the effectiveness of regulatory oversight. The Enron scandal is a cautionary tale about the importance of transparency, ethical behaivour, and effective corporate governance in the business setting. The scandal highlighted the need for robust internal controls, independent audits, and a culture of integrity within organisations. Analyising the Enron mail dataset, which consists of email communication from the firm's executives, employees, and associates, can provide insights into the company's communication patterns and potentially uncover additional evidence related to scandals. \n",
        "\n",
        "## Methodology\n",
        "\n",
        "### Data Collection\n",
        "\n",
        " The paper utilizes Enron as the major data source for the general paper analysis. It considers the firm's shortcomings which contributed to the company's collapse. Enron's database served this study with effective evaluation data for the general analysis. The data was also sourced from various text files used during the company's operation. For instance, data was extracted from JSON files, CSV, XML, and plain text files. Other business operation data was acquired from binary files like app data and media files like images, audio, video, and other compiled text.\n",
        "\n"
      ],
      "metadata": {
        "id": "q0FFmuAp8XM0"
      }
    },
    {
      "cell_type": "markdown",
      "source": [
        "Example"
      ],
      "metadata": {
        "id": "AJpRH9s6TKvy"
      }
    },
    {
      "cell_type": "code",
      "execution_count": null,
      "metadata": {
        "id": "J6k-D_LG6Lao"
      },
      "outputs": [],
      "source": [
        "Import pyinputplus as pyip\n",
        "Response = pip.inputNum()"
      ]
    },
    {
      "cell_type": "markdown",
      "source": [
        "### Data preperation\n",
        "\n",
        "This process involves data cleaning to remove errors and duplicates when handling null values. Enron's collapse contributed to poor data preparation techniques, which led to increased financial scandals (Ali & El Gayar, 2019). In Python programming, pandas verify the dataset is complete and ready for further analysis. The panda's function is null () to complete data verification procedures.\n",
        "\n",
        "### Data Exploration\n",
        "\n",
        "Data exploration gives a better understanding of the data for effective statistical and visual analysis to form a hypothesis and uncover potential patterns in the data. Also, panda, a Python library, is used for the exploratory portion of the email dataset. However, a mixture of matplotlib, seaborn, and pandas is used to create the visualization. The initial analysis and testing of the email dataset examination were developed in exploration_development.ipynb, a notebook for explorations.\n",
        "\n"
      ],
      "metadata": {
        "id": "qnNapPqYKwcH"
      }
    },
    {
      "cell_type": "markdown",
      "source": [
        "## Analysis \n",
        "Pandas allow the user to view the dataset, which comprises data presented in rows and columns with different datatypes like float, characters, and integers. Below is a sample of data analysis using Python."
      ],
      "metadata": {
        "id": "dOXsO6peLUoA"
      }
    },
    {
      "cell_type": "code",
      "source": [
        "import pandas as pd\n",
        "columns = ['Sales,''Profits,''losses,''Expenses,''appreciation rate']\n",
        "df = pd.read_csv('Enron.csv', names=columns)\n",
        "print ('Table 1: sales margin')\n",
        "df[\"sales\"].value_counts()"
      ],
      "metadata": {
        "id": "oZKei6ozLoLS"
      },
      "execution_count": null,
      "outputs": []
    },
    {
      "cell_type": "markdown",
      "source": [
        "## Visualisations\n",
        "In Enron's email dataset analysis, it is beneficial to use visualization techniques to visualize the data and the relationships between measurement and various datasets to see if certain patterns emerge. Data visualization is essential in making overall data analysis to observe various trends arising from various changes occurring due to various data changes witnessed. Enron's email dataset analysis used the seaborn pair plot, which pairs every feature with every other data feature, distinguished by an object type."
      ],
      "metadata": {
        "id": "m6xFNnOJNgxu"
      }
    },
    {
      "cell_type": "markdown",
      "source": [
        "Example"
      ],
      "metadata": {
        "id": "6JqYjAROTQpY"
      }
    },
    {
      "cell_type": "code",
      "source": [
        "import seaborn as sb\n",
        "# Pair Plot\n",
        "print('Figure 1: Pairwise plot of Enron Dataset')\n",
        "sb.pairplot(df, ha='Species')"
      ],
      "metadata": {
        "id": "zPNpwsBLNw96"
      },
      "execution_count": null,
      "outputs": []
    },
    {
      "cell_type": "markdown",
      "source": [
        "### Correlations\n",
        "This is the distinction between the sales and profits the company gains. The panda's correlation function tells more about this computation."
      ],
      "metadata": {
        "id": "AmLxESamQYhT"
      }
    },
    {
      "cell_type": "code",
      "source": [
        "print('Table 4: Correlation Matrix of Enron Dataset')\n",
        "df.corr()"
      ],
      "metadata": {
        "id": "HKL16PmMQcd7"
      },
      "execution_count": null,
      "outputs": []
    },
    {
      "cell_type": "markdown",
      "source": [
        "The correlation can be visualized more easily using the heatmap below. The large red amount and the orange boxes show the high sales that are highly correlated with one another except for appreciation rates."
      ],
      "metadata": {
        "id": "EXCJ-HnaQuzi"
      }
    },
    {
      "cell_type": "code",
      "source": [
        "sb.heatmap(df.corr(), annot=True)"
      ],
      "metadata": {
        "id": "4lQ2de6tQzDE"
      },
      "execution_count": null,
      "outputs": []
    },
    {
      "cell_type": "markdown",
      "source": [
        "## Conclusion\n",
        "The analysis covered in Enron's email dataset analysis uncovered many interesting details about Enron's datasets. The company's collapse was attributed to its failure to monitor its sales, promotion, profits, losses, and expenses data using data visualization, collection, preparation, and exploration techniques."
      ],
      "metadata": {
        "id": "KRuVpvONQ9yS"
      }
    },
    {
      "cell_type": "markdown",
      "source": [
        "## References\n"
      ],
      "metadata": {
        "id": "I8bTrkULRSo3"
      }
    }
  ]
}