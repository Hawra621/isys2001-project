{
  "nbformat": 4,
  "nbformat_minor": 0,
  "metadata": {
    "colab": {
      "provenance": [],
      "authorship_tag": "ABX9TyMW2KcjgyMD49ElcDvkY0CX",
      "include_colab_link": true
    },
    "kernelspec": {
      "name": "python3",
      "display_name": "Python 3"
    },
    "language_info": {
      "name": "python"
    }
  },
  "cells": [
    {
      "cell_type": "markdown",
      "metadata": {
        "id": "view-in-github",
        "colab_type": "text"
      },
      "source": [
        "<a href=\"https://colab.research.google.com/github/Hawra621/isys2001-project/blob/main/business_report.ipynb\" target=\"_parent\"><img src=\"https://colab.research.google.com/assets/colab-badge.svg\" alt=\"Open In Colab\"/></a>"
      ]
    },
    {
      "cell_type": "markdown",
      "source": [
        "# Enron Email Analysis \n",
        "##### I am Student, #20166610\n",
        "##### Sunday 4 June 2023\n",
        "\n",
        "## Introduction\n",
        "The Enron Corporation, established in 1985, was an American energy, services, and commodities company. Although the company had increased market share, with a market value of over $70 billion, there was a dark reality of fraudulent accounting practices and financial scandals (Ali & El Gayar, 2019). The firm used deceptive activity to manipulate its financial statements and inflate its profits. The company's practices involved complex schemes and the creation of off-balance-sheet entities to hide the debt losses. The company collapsed in 2001 after the fraudulent activities were exposed. The Enron scandal also exposed weaknesses in corporate governance and raised concerns about the effectiveness of regulatory oversight. The Enron scandal is caus"
      ],
      "metadata": {
        "id": "q0FFmuAp8XM0"
      }
    },
    {
      "cell_type": "code",
      "execution_count": null,
      "metadata": {
        "id": "J6k-D_LG6Lao"
      },
      "outputs": [],
      "source": []
    }
  ]
}